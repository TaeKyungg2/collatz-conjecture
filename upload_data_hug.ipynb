{
 "cells": [
  {
   "cell_type": "code",
   "execution_count": null,
   "id": "b64710f0",
   "metadata": {},
   "outputs": [
    {
     "name": "stdout",
     "output_type": "stream",
     "text": [
      "2, \n"
     ]
    }
   ],
   "source": [
    "import pandas as pd\n",
    "with open(\"../collatz_conjecture_100m_data.txt\",\"r\",encoding='utf-8') as data:\n",
    "    data.seek(0,2)\n",
    "    len=data.tell\n",
    "    \n",
    "    x=li[0:-2]\n",
    "    print(x)"
   ]
  },
  {
   "cell_type": "code",
   "execution_count": null,
   "id": "91627133",
   "metadata": {},
   "outputs": [],
   "source": [
    "import pandas as pd\n",
    "with open(\"../collatz_conjecture_100m_data.txt\",\"r\",encoding='utf-8') as data:\n",
    "    batch_1m=[0]*1000000\n",
    "    pan_data=pd.DataFrame()\n",
    "    batch_1m[0]=1\n",
    "    i=1\n",
    "    x=0\n",
    "    for line in data:\n",
    "        line=line.strip()\n",
    "        if len(line)<=1:continue\n",
    "        if line[-1]==\",\":line=line[0:-2]\n",
    "        batch_1m[i]=line\n",
    "        if (i+1)%1000000==0:\n",
    "            pan_data[f\"start_num : {(i-1000000+2)+1000000*x}~{i+1+1000000*x}\"]=batch_1m\n",
    "            batch_1m=[0]*1000000\n",
    "            i=-1\n",
    "            x+=1\n",
    "        i+=1\n",
    "print(pan_data.shape)\n",
    "print(pan_data[-1])"
   ]
  },
  {
   "cell_type": "code",
   "execution_count": 19,
   "id": "21aa8b7b",
   "metadata": {},
   "outputs": [
    {
     "data": {
      "text/plain": [
       "start_num : -1~1000000    98000004,49000002,24500001,73500004,36750002,1...\n",
       "Name: 2, dtype: object"
      ]
     },
     "execution_count": 19,
     "metadata": {},
     "output_type": "execute_result"
    }
   ],
   "source": [
    "pan_data.iloc[2]"
   ]
  },
  {
   "cell_type": "code",
   "execution_count": null,
   "id": "dd54073b",
   "metadata": {},
   "outputs": [
    {
     "name": "stdout",
     "output_type": "stream",
     "text": [
      "^C\n"
     ]
    }
   ],
   "source": [
    "# Parquet 저장 (압축 zstd 권장)\n",
    "pan_data.to_parquet(\"dataset.parquet\", engine=\"pyarrow\", compression=\"zstd\")"
   ]
  },
  {
   "cell_type": "code",
   "execution_count": null,
   "id": "ea0bc32c",
   "metadata": {},
   "outputs": [],
   "source": [
    "import pyarrow as pa\n",
    "import pyarrow.parquet as pq\n",
    "\n",
    "# Parquet writer 열기\n",
    "writer = None\n",
    "\n",
    "with open(\"../collatz_conjecture_100m_data.txt\", \"r\", encoding=\"utf-8\") as f:\n",
    "    batch_size = 1000000  # 100만 줄 단위로 처리\n",
    "    lines = []\n",
    "    for i, line in enumerate(f, 1):\n",
    "        line=line.strip()\n",
    "        if len(line)<=1:continue\n",
    "        if line[-1]==\",\":line=line[-2]\n",
    "        lines.append(line)\n",
    "        if i % batch_size == 0:\n",
    "            table = pa.Table.from_arrays([pa.array(lines)], names=[f\"numbers\"])\n",
    "            if writer is None:\n",
    "                writer = pq.ParquetWriter(f\"collatz_100m.parquet\", table.schema, compression=\"zstd\")\n",
    "            writer.write_table(table)\n",
    "            lines = []  # 메모리 비우기\n",
    "\n",
    "    if lines:\n",
    "        table = pa.Table.from_arrays([pa.array(lines)], names=[\"numbers\"])\n",
    "        writer.write_table(table)\n",
    "\n",
    "if writer:\n",
    "    writer.close()\n"
   ]
  },
  {
   "cell_type": "code",
   "execution_count": null,
   "id": "a21e4063",
   "metadata": {},
   "outputs": [
    {
     "ename": "",
     "evalue": "",
     "output_type": "error",
     "traceback": [
      "\u001b[1;31mThe Kernel crashed while executing code in the current cell or a previous cell. \n",
      "\u001b[1;31mPlease review the code in the cell(s) to identify a possible cause of the failure. \n",
      "\u001b[1;31mClick <a href='https://aka.ms/vscodeJupyterKernelCrash'>here</a> for more info. \n",
      "\u001b[1;31mView Jupyter <a href='command:jupyter.viewOutput'>log</a> for further details."
     ]
    }
   ],
   "source": [
    "import pyarrow.parquet as pq\n",
    "\n",
    "table = pq.read_table(\"collatz_100m.parquet\")\n",
    "print(\"Row groups:\", table.num_row_groups)"
   ]
  },
  {
   "cell_type": "code",
   "execution_count": null,
   "id": "bc1ff18d",
   "metadata": {},
   "outputs": [],
   "source": [
    "for i in range(parquet_file.num_row_groups):\n",
    "    table = parquet_file.read_row_group(i)\n",
    "    df = table.to_pandas()\n",
    "    print(f\"=== Row group {i} ===\")\n",
    "    print(df.head())"
   ]
  }
 ],
 "metadata": {
  "kernelspec": {
   "display_name": "Python 3",
   "language": "python",
   "name": "python3"
  },
  "language_info": {
   "codemirror_mode": {
    "name": "ipython",
    "version": 3
   },
   "file_extension": ".py",
   "mimetype": "text/x-python",
   "name": "python",
   "nbconvert_exporter": "python",
   "pygments_lexer": "ipython3",
   "version": "3.13.7"
  }
 },
 "nbformat": 4,
 "nbformat_minor": 5
}
